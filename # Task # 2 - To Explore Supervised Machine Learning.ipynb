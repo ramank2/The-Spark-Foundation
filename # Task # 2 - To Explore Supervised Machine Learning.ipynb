{
 "cells": [
  {
   "cell_type": "markdown",
   "metadata": {},
   "source": [
    "# Task # 2 - To Explore Supervised Machine Learning\n",
    "In this regression task we will predict the percentage of marks that a student is expected to score based upon the number of hours they studied. This is a simple linear regression task as it involves just two variables.\n",
    "\n",
    "Data can be found at http://bit.ly/w-data\n"
   ]
  },
  {
   "cell_type": "markdown",
   "metadata": {},
   "source": [
    "# Problem Statement\n",
    "What will be predicted score if a student study for 9.25 hrs in a day?"
   ]
  },
  {
   "cell_type": "code",
   "execution_count": 1,
   "metadata": {},
   "outputs": [],
   "source": [
    "#Load Libraries\n",
    "import numpy as np\n",
    "import pandas as pd\n",
    "import matplotlib.pyplot as plt\n",
    "import seaborn as sns\n",
    "\n",
    "\n",
    "\n",
    "#import sklearn train_test_split library\n",
    "from sklearn.model_selection import train_test_split\n",
    "\n",
    "\n",
    "# Machine Learning Algorithm\n",
    "from sklearn.linear_model import LinearRegression\n",
    "import statsmodels.api as sm\n",
    "from statsmodels.formula.api import ols\n",
    "\n",
    "\n",
    "#importing important error metrics libraries\n",
    "from sklearn import metrics\n",
    "from sklearn.metrics import mean_absolute_error, mean_squared_error\n",
    "from sklearn.metrics import r2_score"
   ]
  },
  {
   "cell_type": "code",
   "execution_count": 2,
   "metadata": {},
   "outputs": [],
   "source": [
    "#Load The Data\n",
    "\n",
    "data = pd.read_csv('http://bit.ly/w-data')"
   ]
  },
  {
   "cell_type": "code",
   "execution_count": 3,
   "metadata": {},
   "outputs": [
    {
     "data": {
      "text/html": [
       "<div>\n",
       "<style scoped>\n",
       "    .dataframe tbody tr th:only-of-type {\n",
       "        vertical-align: middle;\n",
       "    }\n",
       "\n",
       "    .dataframe tbody tr th {\n",
       "        vertical-align: top;\n",
       "    }\n",
       "\n",
       "    .dataframe thead th {\n",
       "        text-align: right;\n",
       "    }\n",
       "</style>\n",
       "<table border=\"1\" class=\"dataframe\">\n",
       "  <thead>\n",
       "    <tr style=\"text-align: right;\">\n",
       "      <th></th>\n",
       "      <th>Hours</th>\n",
       "      <th>Scores</th>\n",
       "    </tr>\n",
       "  </thead>\n",
       "  <tbody>\n",
       "    <tr>\n",
       "      <th>0</th>\n",
       "      <td>2.5</td>\n",
       "      <td>21</td>\n",
       "    </tr>\n",
       "    <tr>\n",
       "      <th>1</th>\n",
       "      <td>5.1</td>\n",
       "      <td>47</td>\n",
       "    </tr>\n",
       "    <tr>\n",
       "      <th>2</th>\n",
       "      <td>3.2</td>\n",
       "      <td>27</td>\n",
       "    </tr>\n",
       "    <tr>\n",
       "      <th>3</th>\n",
       "      <td>8.5</td>\n",
       "      <td>75</td>\n",
       "    </tr>\n",
       "    <tr>\n",
       "      <th>4</th>\n",
       "      <td>3.5</td>\n",
       "      <td>30</td>\n",
       "    </tr>\n",
       "  </tbody>\n",
       "</table>\n",
       "</div>"
      ],
      "text/plain": [
       "   Hours  Scores\n",
       "0    2.5      21\n",
       "1    5.1      47\n",
       "2    3.2      27\n",
       "3    8.5      75\n",
       "4    3.5      30"
      ]
     },
     "execution_count": 3,
     "metadata": {},
     "output_type": "execute_result"
    }
   ],
   "source": [
    "data.head()"
   ]
  },
  {
   "cell_type": "markdown",
   "metadata": {},
   "source": [
    "# Descriptive Statistics"
   ]
  },
  {
   "cell_type": "code",
   "execution_count": 4,
   "metadata": {},
   "outputs": [
    {
     "data": {
      "text/html": [
       "<style  type=\"text/css\" >\n",
       "#T_3d703a62_f5aa_11ea_858f_2047473a7b86row0_col0,#T_3d703a62_f5aa_11ea_858f_2047473a7b86row7_col1{\n",
       "            background-color:  #ffc77f;\n",
       "            color:  #000000;\n",
       "        }#T_3d703a62_f5aa_11ea_858f_2047473a7b86row0_col1{\n",
       "            background-color:  #20140d;\n",
       "            color:  #f1f1f1;\n",
       "        }#T_3d703a62_f5aa_11ea_858f_2047473a7b86row1_col0{\n",
       "            background-color:  #332014;\n",
       "            color:  #f1f1f1;\n",
       "        }#T_3d703a62_f5aa_11ea_858f_2047473a7b86row1_col1{\n",
       "            background-color:  #8c5838;\n",
       "            color:  #f1f1f1;\n",
       "        }#T_3d703a62_f5aa_11ea_858f_2047473a7b86row2_col0{\n",
       "            background-color:  #130c07;\n",
       "            color:  #f1f1f1;\n",
       "        }#T_3d703a62_f5aa_11ea_858f_2047473a7b86row2_col1{\n",
       "            background-color:  #21150d;\n",
       "            color:  #f1f1f1;\n",
       "        }#T_3d703a62_f5aa_11ea_858f_2047473a7b86row3_col0,#T_3d703a62_f5aa_11ea_858f_2047473a7b86row3_col1{\n",
       "            background-color:  #000000;\n",
       "            color:  #f1f1f1;\n",
       "        }#T_3d703a62_f5aa_11ea_858f_2047473a7b86row4_col0{\n",
       "            background-color:  #150d08;\n",
       "            color:  #f1f1f1;\n",
       "        }#T_3d703a62_f5aa_11ea_858f_2047473a7b86row4_col1{\n",
       "            background-color:  #342115;\n",
       "            color:  #f1f1f1;\n",
       "        }#T_3d703a62_f5aa_11ea_858f_2047473a7b86row5_col0{\n",
       "            background-color:  #301e13;\n",
       "            color:  #f1f1f1;\n",
       "        }#T_3d703a62_f5aa_11ea_858f_2047473a7b86row5_col1{\n",
       "            background-color:  #794d31;\n",
       "            color:  #f1f1f1;\n",
       "        }#T_3d703a62_f5aa_11ea_858f_2047473a7b86row6_col0{\n",
       "            background-color:  #533421;\n",
       "            color:  #f1f1f1;\n",
       "        }#T_3d703a62_f5aa_11ea_858f_2047473a7b86row6_col1{\n",
       "            background-color:  #eb945f;\n",
       "            color:  #000000;\n",
       "        }#T_3d703a62_f5aa_11ea_858f_2047473a7b86row7_col0{\n",
       "            background-color:  #6a432b;\n",
       "            color:  #f1f1f1;\n",
       "        }</style><table id=\"T_3d703a62_f5aa_11ea_858f_2047473a7b86\" ><thead>    <tr>        <th class=\"blank level0\" ></th>        <th class=\"col_heading level0 col0\" >Hours</th>        <th class=\"col_heading level0 col1\" >Scores</th>    </tr></thead><tbody>\n",
       "                <tr>\n",
       "                        <th id=\"T_3d703a62_f5aa_11ea_858f_2047473a7b86level0_row0\" class=\"row_heading level0 row0\" >count</th>\n",
       "                        <td id=\"T_3d703a62_f5aa_11ea_858f_2047473a7b86row0_col0\" class=\"data row0 col0\" >25.000000</td>\n",
       "                        <td id=\"T_3d703a62_f5aa_11ea_858f_2047473a7b86row0_col1\" class=\"data row0 col1\" >25.000000</td>\n",
       "            </tr>\n",
       "            <tr>\n",
       "                        <th id=\"T_3d703a62_f5aa_11ea_858f_2047473a7b86level0_row1\" class=\"row_heading level0 row1\" >mean</th>\n",
       "                        <td id=\"T_3d703a62_f5aa_11ea_858f_2047473a7b86row1_col0\" class=\"data row1 col0\" >5.012000</td>\n",
       "                        <td id=\"T_3d703a62_f5aa_11ea_858f_2047473a7b86row1_col1\" class=\"data row1 col1\" >51.480000</td>\n",
       "            </tr>\n",
       "            <tr>\n",
       "                        <th id=\"T_3d703a62_f5aa_11ea_858f_2047473a7b86level0_row2\" class=\"row_heading level0 row2\" >std</th>\n",
       "                        <td id=\"T_3d703a62_f5aa_11ea_858f_2047473a7b86row2_col0\" class=\"data row2 col0\" >2.525094</td>\n",
       "                        <td id=\"T_3d703a62_f5aa_11ea_858f_2047473a7b86row2_col1\" class=\"data row2 col1\" >25.286887</td>\n",
       "            </tr>\n",
       "            <tr>\n",
       "                        <th id=\"T_3d703a62_f5aa_11ea_858f_2047473a7b86level0_row3\" class=\"row_heading level0 row3\" >min</th>\n",
       "                        <td id=\"T_3d703a62_f5aa_11ea_858f_2047473a7b86row3_col0\" class=\"data row3 col0\" >1.100000</td>\n",
       "                        <td id=\"T_3d703a62_f5aa_11ea_858f_2047473a7b86row3_col1\" class=\"data row3 col1\" >17.000000</td>\n",
       "            </tr>\n",
       "            <tr>\n",
       "                        <th id=\"T_3d703a62_f5aa_11ea_858f_2047473a7b86level0_row4\" class=\"row_heading level0 row4\" >25%</th>\n",
       "                        <td id=\"T_3d703a62_f5aa_11ea_858f_2047473a7b86row4_col0\" class=\"data row4 col0\" >2.700000</td>\n",
       "                        <td id=\"T_3d703a62_f5aa_11ea_858f_2047473a7b86row4_col1\" class=\"data row4 col1\" >30.000000</td>\n",
       "            </tr>\n",
       "            <tr>\n",
       "                        <th id=\"T_3d703a62_f5aa_11ea_858f_2047473a7b86level0_row5\" class=\"row_heading level0 row5\" >50%</th>\n",
       "                        <td id=\"T_3d703a62_f5aa_11ea_858f_2047473a7b86row5_col0\" class=\"data row5 col0\" >4.800000</td>\n",
       "                        <td id=\"T_3d703a62_f5aa_11ea_858f_2047473a7b86row5_col1\" class=\"data row5 col1\" >47.000000</td>\n",
       "            </tr>\n",
       "            <tr>\n",
       "                        <th id=\"T_3d703a62_f5aa_11ea_858f_2047473a7b86level0_row6\" class=\"row_heading level0 row6\" >75%</th>\n",
       "                        <td id=\"T_3d703a62_f5aa_11ea_858f_2047473a7b86row6_col0\" class=\"data row6 col0\" >7.400000</td>\n",
       "                        <td id=\"T_3d703a62_f5aa_11ea_858f_2047473a7b86row6_col1\" class=\"data row6 col1\" >75.000000</td>\n",
       "            </tr>\n",
       "            <tr>\n",
       "                        <th id=\"T_3d703a62_f5aa_11ea_858f_2047473a7b86level0_row7\" class=\"row_heading level0 row7\" >max</th>\n",
       "                        <td id=\"T_3d703a62_f5aa_11ea_858f_2047473a7b86row7_col0\" class=\"data row7 col0\" >9.200000</td>\n",
       "                        <td id=\"T_3d703a62_f5aa_11ea_858f_2047473a7b86row7_col1\" class=\"data row7 col1\" >95.000000</td>\n",
       "            </tr>\n",
       "    </tbody></table>"
      ],
      "text/plain": [
       "<pandas.io.formats.style.Styler at 0x221112a1c48>"
      ]
     },
     "execution_count": 4,
     "metadata": {},
     "output_type": "execute_result"
    }
   ],
   "source": [
    "data.describe().style.background_gradient(cmap = 'copper')"
   ]
  },
  {
   "cell_type": "code",
   "execution_count": 5,
   "metadata": {},
   "outputs": [
    {
     "data": {
      "text/plain": [
       "<matplotlib.axes._subplots.AxesSubplot at 0x2211140bd08>"
      ]
     },
     "execution_count": 5,
     "metadata": {},
     "output_type": "execute_result"
    },
    {
     "data": {
      "image/png": "[encoded data removed]",
      "text/plain": [
       "<Figure size 1080x216 with 1 Axes>"
      ]
     },
     "metadata": {
      "needs_background": "light"
     },
     "output_type": "display_data"
    }
   ],
   "source": [
    "# Check the Distribution of the Target Column ( Scores)\n",
    "\n",
    "plt.rcParams['figure.figsize'] = (15,3)\n",
    "\n",
    "plt.subplot(1, 3, 1)\n",
    "sns.distplot(data['Scores'],)"
   ]
  },
  {
   "cell_type": "code",
   "execution_count": 6,
   "metadata": {},
   "outputs": [
    {
     "data": {
      "image/png": "[encoded data removed]",
      "text/plain": [
       "<Figure size 720x360 with 1 Axes>"
      ]
     },
     "metadata": {
      "needs_background": "light"
     },
     "output_type": "display_data"
    }
   ],
   "source": [
    "# Check the Relation of Hours with respect to Scores\n",
    "plt.figure(figsize=(10,5))\n",
    "plt.scatter(data['Hours'], data['Scores'], color= \"r\");\n",
    "plt.xlabel('Hours')\n",
    "plt.ylabel('Scores')\n",
    "plt.show()"
   ]
  },
  {
   "cell_type": "raw",
   "metadata": {},
   "source": [
    "Clearly Hours have an positive Impact on Scores. As the Hours increased , Scores also increased."
   ]
  },
  {
   "cell_type": "markdown",
   "metadata": {},
   "source": [
    "# Missing Value Analysis"
   ]
  },
  {
   "cell_type": "code",
   "execution_count": 7,
   "metadata": {},
   "outputs": [
    {
     "data": {
      "text/html": [
       "<div>\n",
       "<style scoped>\n",
       "    .dataframe tbody tr th:only-of-type {\n",
       "        vertical-align: middle;\n",
       "    }\n",
       "\n",
       "    .dataframe tbody tr th {\n",
       "        vertical-align: top;\n",
       "    }\n",
       "\n",
       "    .dataframe thead th {\n",
       "        text-align: right;\n",
       "    }\n",
       "</style>\n",
       "<table border=\"1\" class=\"dataframe\">\n",
       "  <thead>\n",
       "    <tr style=\"text-align: right;\">\n",
       "      <th></th>\n",
       "      <th>index</th>\n",
       "      <th>0</th>\n",
       "    </tr>\n",
       "  </thead>\n",
       "  <tbody>\n",
       "    <tr>\n",
       "      <th>0</th>\n",
       "      <td>Hours</td>\n",
       "      <td>0</td>\n",
       "    </tr>\n",
       "    <tr>\n",
       "      <th>1</th>\n",
       "      <td>Scores</td>\n",
       "      <td>0</td>\n",
       "    </tr>\n",
       "  </tbody>\n",
       "</table>\n",
       "</div>"
      ],
      "text/plain": [
       "    index  0\n",
       "0   Hours  0\n",
       "1  Scores  0"
      ]
     },
     "execution_count": 7,
     "metadata": {},
     "output_type": "execute_result"
    }
   ],
   "source": [
    "#Missing Value Analysis in Train data\n",
    "missing_val=pd.DataFrame(data.isnull().sum())\n",
    "#Reset index\n",
    "missing_val = missing_val.reset_index()\n",
    "missing_val"
   ]
  },
  {
   "cell_type": "raw",
   "metadata": {},
   "source": [
    "We Dont have any Missing Value"
   ]
  },
  {
   "cell_type": "markdown",
   "metadata": {},
   "source": [
    "# Declare the dependent and the independent variables"
   ]
  },
  {
   "cell_type": "code",
   "execution_count": 8,
   "metadata": {},
   "outputs": [],
   "source": [
    "X = data.iloc[ :, :-1].values\n",
    "Y = data.iloc[ :, 1].values"
   ]
  },
  {
   "cell_type": "markdown",
   "metadata": {},
   "source": [
    "# Splitting data into train and test"
   ]
  },
  {
   "cell_type": "code",
   "execution_count": 9,
   "metadata": {},
   "outputs": [],
   "source": [
    "#train_test_split\n",
    "\n",
    "X_train , X_test , Y_train , Y_test = train_test_split( X , Y , test_size = 0.2 ,random_state = 0)"
   ]
  },
  {
   "cell_type": "markdown",
   "metadata": {},
   "source": [
    "# Building the model on train sets"
   ]
  },
  {
   "cell_type": "code",
   "execution_count": 10,
   "metadata": {},
   "outputs": [
    {
     "data": {
      "text/plain": [
       "LinearRegression()"
      ]
     },
     "execution_count": 10,
     "metadata": {},
     "output_type": "execute_result"
    }
   ],
   "source": [
    "# Linear Regression Model\n",
    "\n",
    "model = LinearRegression()\n",
    "\n",
    "model.fit(X_train, Y_train)"
   ]
  },
  {
   "cell_type": "code",
   "execution_count": 11,
   "metadata": {},
   "outputs": [
    {
     "data": {
      "image/png": "[encoded data removed]",
      "text/plain": [
       "<Figure size 1080x216 with 1 Axes>"
      ]
     },
     "metadata": {
      "needs_background": "light"
     },
     "output_type": "display_data"
    }
   ],
   "source": [
    "#Formula : (y = bx + constant)\n",
    "line = model.coef_*X + model.intercept_  \n",
    "\n",
    "#Plot for test data\n",
    "plt.scatter(X, Y)\n",
    "plt.plot(X, line , color= \"r\");\n",
    "plt.xlabel('Hours', fontsize = 20)\n",
    "plt.ylabel('Scores', fontsize = 20)\n",
    "plt.show()"
   ]
  },
  {
   "cell_type": "markdown",
   "metadata": {},
   "source": [
    "# Predict the result of test Data"
   ]
  },
  {
   "cell_type": "code",
   "execution_count": 12,
   "metadata": {},
   "outputs": [
    {
     "data": {
      "text/plain": [
       "array([16.88414476, 33.73226078, 75.357018  , 26.79480124, 60.49103328])"
      ]
     },
     "execution_count": 12,
     "metadata": {},
     "output_type": "execute_result"
    }
   ],
   "source": [
    "y_pred = model.predict(X_test)\n",
    "y_pred"
   ]
  },
  {
   "cell_type": "markdown",
   "metadata": {},
   "source": [
    "# Create a dataframe with Actual Values  and Predicted values"
   ]
  },
  {
   "cell_type": "code",
   "execution_count": 13,
   "metadata": {},
   "outputs": [],
   "source": [
    "df = pd.DataFrame({ \"Actual\" : Y_test,\"Predicted\" : y_pred})"
   ]
  },
  {
   "cell_type": "code",
   "execution_count": 14,
   "metadata": {},
   "outputs": [
    {
     "data": {
      "text/html": [
       "<div>\n",
       "<style scoped>\n",
       "    .dataframe tbody tr th:only-of-type {\n",
       "        vertical-align: middle;\n",
       "    }\n",
       "\n",
       "    .dataframe tbody tr th {\n",
       "        vertical-align: top;\n",
       "    }\n",
       "\n",
       "    .dataframe thead th {\n",
       "        text-align: right;\n",
       "    }\n",
       "</style>\n",
       "<table border=\"1\" class=\"dataframe\">\n",
       "  <thead>\n",
       "    <tr style=\"text-align: right;\">\n",
       "      <th></th>\n",
       "      <th>Actual</th>\n",
       "      <th>Predicted</th>\n",
       "    </tr>\n",
       "  </thead>\n",
       "  <tbody>\n",
       "    <tr>\n",
       "      <th>0</th>\n",
       "      <td>20</td>\n",
       "      <td>16.884145</td>\n",
       "    </tr>\n",
       "    <tr>\n",
       "      <th>1</th>\n",
       "      <td>27</td>\n",
       "      <td>33.732261</td>\n",
       "    </tr>\n",
       "    <tr>\n",
       "      <th>2</th>\n",
       "      <td>69</td>\n",
       "      <td>75.357018</td>\n",
       "    </tr>\n",
       "    <tr>\n",
       "      <th>3</th>\n",
       "      <td>30</td>\n",
       "      <td>26.794801</td>\n",
       "    </tr>\n",
       "    <tr>\n",
       "      <th>4</th>\n",
       "      <td>62</td>\n",
       "      <td>60.491033</td>\n",
       "    </tr>\n",
       "  </tbody>\n",
       "</table>\n",
       "</div>"
      ],
      "text/plain": [
       "   Actual  Predicted\n",
       "0      20  16.884145\n",
       "1      27  33.732261\n",
       "2      69  75.357018\n",
       "3      30  26.794801\n",
       "4      62  60.491033"
      ]
     },
     "execution_count": 14,
     "metadata": {},
     "output_type": "execute_result"
    }
   ],
   "source": [
    "df.head()"
   ]
  },
  {
   "cell_type": "markdown",
   "metadata": {},
   "source": [
    "# Model Evaluation with Error Matrix"
   ]
  },
  {
   "cell_type": "code",
   "execution_count": 15,
   "metadata": {},
   "outputs": [],
   "source": [
    "from sklearn.metrics import mean_squared_error\n",
    "from sklearn import metrics\n",
    "\n",
    "def Mape(y_true, y_pred):\n",
    "    mape = np.mean(np.abs((y_true-y_pred)/y_pred)*100)\n",
    "    return mape"
   ]
  },
  {
   "cell_type": "code",
   "execution_count": 16,
   "metadata": {},
   "outputs": [],
   "source": [
    "#calculate Mape with Accuracy\n",
    "\n",
    "Mape = Mape(Y_test, y_pred)\n",
    "\n",
    "Accuracy  = 100-Mape"
   ]
  },
  {
   "cell_type": "code",
   "execution_count": 17,
   "metadata": {},
   "outputs": [
    {
     "name": "stdout",
     "output_type": "stream",
     "text": [
      "Mean Absolute Percentage Error: 12.26093404014752\n",
      "Mean Absolute Error: 4.183859899002975\n",
      "Mean Squared Error: 21.5987693072174\n",
      "Root Mean Squared Error: 4.6474476121003665\n",
      "Model Accuracy: 87.73906595985248\n"
     ]
    }
   ],
   "source": [
    "#Print Result\n",
    "\n",
    "print('Mean Absolute Percentage Error:',  Mape)\n",
    "\n",
    "print('Mean Absolute Error:',  metrics.mean_absolute_error(Y_test, y_pred))\n",
    "\n",
    "print('Mean Squared Error:',  metrics.mean_squared_error(Y_test, y_pred)) \n",
    "\n",
    "print('Root Mean Squared Error:', np.sqrt(metrics.mean_squared_error(Y_test , y_pred)))\n",
    "\n",
    "print('Model Accuracy:',  Accuracy)"
   ]
  },
  {
   "cell_type": "markdown",
   "metadata": {},
   "source": [
    "# Test with our own data"
   ]
  },
  {
   "cell_type": "code",
   "execution_count": 18,
   "metadata": {},
   "outputs": [
    {
     "name": "stdout",
     "output_type": "stream",
     "text": [
      "No of Hours = [[9.25]]\n",
      "Predicted Score = 93.69173248737538\n"
     ]
    }
   ],
   "source": [
    "hours = np.array([9.25])\n",
    "\n",
    "hours = hours.reshape(-1 , 1)\n",
    "\n",
    "pred_score = model.predict(hours)\n",
    "\n",
    "print(\"No of Hours = {}\".format(hours))\n",
    "\n",
    "print(\"Predicted Score = {}\".format(pred_score[0]))"
   ]
  },
  {
   "cell_type": "markdown",
   "metadata": {},
   "source": [
    "# Thank You\n",
    "\n",
    "Raman Kumar"
   ]
  }
 ],
 "metadata": {
  "kernelspec": {
   "display_name": "Python 3",
   "language": "python",
   "name": "python3"
  },
  "language_info": {
   "codemirror_mode": {
    "name": "ipython",
    "version": 3
   },
   "file_extension": ".py",
   "mimetype": "text/x-python",
   "name": "python",
   "nbconvert_exporter": "python",
   "pygments_lexer": "ipython3",
   "version": "3.7.6"
  }
 },
 "nbformat": 4,
 "nbformat_minor": 4
}
